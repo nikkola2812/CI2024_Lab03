{
 "cells": [
  {
   "cell_type": "code",
   "execution_count": 1,
   "id": "705af1dc-155c-463e-ac89-e6fad77cb05a",
   "metadata": {},
   "outputs": [],
   "source": [
    "import time\n",
    "from collections import namedtuple\n",
    "import numpy as np\n",
    "import heapq\n",
    "from random import choice\n",
    "from itertools import count\n",
    "\n",
    "DIMENSION = 3\n",
    "move = namedtuple('Move', ['pos1', 'pos2'])\n",
    "goal = np.array([i for i in range(1, DIMENSION**2)] + [0]).reshape((DIMENSION, DIMENSION))"
   ]
  },
  {
   "cell_type": "markdown",
   "id": "3823fbea-6f5b-4883-92b9-c14ac55420aa",
   "metadata": {},
   "source": [
    "Helper function for moves"
   ]
  },
  {
   "cell_type": "code",
   "execution_count": 2,
   "id": "ad361c6f-0dbd-4ffb-a9e9-8fb0719160a0",
   "metadata": {},
   "outputs": [],
   "source": [
    "\n",
    "# Available actions to swap the blank space\n",
    "def get_actions(puzzle: np.ndarray) -> list[move]:\n",
    "    x, y = [int(_[0]) for _ in np.where(puzzle == 0)]\n",
    "    moves = list()\n",
    "    if x > 0:\n",
    "        moves.append(move((x, y), (x - 1, y)))\n",
    "    if x < DIMENSION - 1:\n",
    "        moves.append(move((x, y), (x + 1, y)))\n",
    "    if y > 0:\n",
    "        moves.append(move((x, y), (x, y - 1)))\n",
    "    if y < DIMENSION - 1:\n",
    "        moves.append(move((x, y), (x, y + 1)))\n",
    "    return moves\n",
    "\n",
    "def perform_move(puzzle: np.ndarray, action: move) -> np.ndarray:\n",
    "    new_puzzle = puzzle.copy()\n",
    "    new_puzzle[action.pos1], new_puzzle[action.pos2] = new_puzzle[action.pos2], new_puzzle[action.pos1]\n",
    "    return new_puzzle"
   ]
  },
  {
   "cell_type": "markdown",
   "id": "eff49862-738c-4a1c-89e4-926fe040c52a",
   "metadata": {},
   "source": [
    "Manhattan and linear conflicts heuristics"
   ]
  },
  {
   "cell_type": "code",
   "execution_count": 3,
   "id": "9f8a702c-3bc7-41c6-92e2-f1c97d12853b",
   "metadata": {},
   "outputs": [],
   "source": [
    "# Manhattan distance heuristic\n",
    "def manhattan(puzzle: np.ndarray) -> int:\n",
    "    distance = 0\n",
    "    for i in range(DIMENSION):\n",
    "        for j in range(DIMENSION):\n",
    "            if puzzle[i, j] != 0:\n",
    "                target_row, target_col = (puzzle[i, j] - 1) // DIMENSION, (puzzle[i, j] - 1) % DIMENSION\n",
    "                distance += abs(i - target_row) + abs(j - target_col)\n",
    "    return distance\n",
    "\n",
    "# Linear conflict heuristic \n",
    "def linear_conflict(puzzle: np.ndarray) -> int:\n",
    "    conflict = 0\n",
    "    for i in range(DIMENSION):\n",
    "        row = puzzle[i, :]\n",
    "        goal_row = [(val - 1) // DIMENSION for val in row if val != 0]\n",
    "        conflict += sum(goal_row[j] == i and any(goal_row[k] < goal_row[j] for k in range(j)) for j in range(len(goal_row)))\n",
    "\n",
    "        col = puzzle[:, i]\n",
    "        goal_col = [(val - 1) % DIMENSION for val in col if val != 0]\n",
    "        conflict += sum(goal_col[j] == i and any(goal_col[k] < goal_col[j] for k in range(j)) for j in range(len(goal_col)))\n",
    "\n",
    "    return conflict\n",
    "\n",
    "# combining both Manhattan and Linear Conflict\n",
    "def combined_heuristic(puzzle: np.ndarray) -> int:\n",
    "    return manhattan(puzzle) + 2*linear_conflict(puzzle)"
   ]
  },
  {
   "cell_type": "markdown",
   "id": "502b467b-a58f-4c82-9ef0-28fccaab7e65",
   "metadata": {},
   "source": [
    "A* search algorithm "
   ]
  },
  {
   "cell_type": "code",
   "execution_count": 4,
   "id": "a494aa8e-00a3-48da-9cd6-c2ed96342ed4",
   "metadata": {},
   "outputs": [],
   "source": [
    "# A* Search to solve the puzzle\n",
    "def solve_puzzle(initial_puzzle: np.ndarray):\n",
    "    open_list = []\n",
    "    heapq.heappush(open_list, (0, next(unique_id := count()), initial_puzzle, []))\n",
    "    closed_set = set()\n",
    "    explored = 0\n",
    "\n",
    "    while open_list:\n",
    "        _, _, current_puzzle, path = heapq.heappop(open_list)\n",
    "        explored += 1\n",
    "\n",
    "        if np.array_equal(current_puzzle, goal):\n",
    "            actions = []\n",
    "            for i in range(1, len(path)):\n",
    "                # Determine the move from the previous state to the current state\n",
    "                prev_state = path[i - 1]\n",
    "                current_state = path[i]\n",
    "                x1, y1 = np.where(prev_state == 0)\n",
    "                x2, y2 = np.where(current_state == 0)\n",
    "                \n",
    "                if x2 > x1: actions.append('down')\n",
    "                elif x2 < x1: actions.append('up')\n",
    "                elif y2 > y1: actions.append('right')\n",
    "                elif y2 < y1: actions.append('left')\n",
    "\n",
    "            return path, explored, actions\n",
    "\n",
    "        puzzle_tuple = tuple(map(tuple, current_puzzle))\n",
    "        if puzzle_tuple in closed_set:\n",
    "            continue\n",
    "        closed_set.add(puzzle_tuple)\n",
    "\n",
    "        for action in get_actions(current_puzzle):\n",
    "            next_puzzle = perform_move(current_puzzle, action)\n",
    "            puzzle_tuple = tuple(map(tuple, next_puzzle))\n",
    "            if puzzle_tuple not in closed_set:\n",
    "                g = len(path) + 1\n",
    "                h = combined_heuristic(next_puzzle)\n",
    "                f = g + h\n",
    "                heapq.heappush(open_list, (f, next(unique_id), next_puzzle, path + [next_puzzle]))\n",
    "\n",
    "    return None, explored, []\n",
    "\n",
    "\n",
    "\n"
   ]
  },
  {
   "cell_type": "markdown",
   "id": "0189cdca-7009-45d9-a199-bb5ba7e9c149",
   "metadata": {},
   "source": [
    "Creating a puzzle"
   ]
  },
  {
   "cell_type": "code",
   "execution_count": 5,
   "id": "bb4bf271-01ad-4b9b-9559-8a7a093d7010",
   "metadata": {},
   "outputs": [],
   "source": [
    "RANDOM_STEPS = 100000\n",
    "current_puzzle = np.array([i for i in range(1, DIMENSION**2)] + [0]).reshape((DIMENSION, DIMENSION))\n",
    "for _ in range(RANDOM_STEPS):\n",
    "    current_puzzle = perform_move(current_puzzle, choice(get_actions(current_puzzle)))\n"
   ]
  },
  {
   "cell_type": "markdown",
   "id": "74364799-67b3-490b-8df9-6ee3116be79f",
   "metadata": {},
   "source": [
    "Solving a puzzle"
   ]
  },
  {
   "cell_type": "code",
   "execution_count": 6,
   "id": "8789125c-e9c2-43d8-80e9-1a659720a7e4",
   "metadata": {},
   "outputs": [
    {
     "name": "stdout",
     "output_type": "stream",
     "text": [
      "Initial state:\n",
      "[[5 3 2]\n",
      " [6 4 1]\n",
      " [0 7 8]]\n",
      "\n",
      "Goal state:\n",
      "[[1 2 3]\n",
      " [4 5 6]\n",
      " [7 8 0]]\n",
      "\n",
      "2169 actions evaluated\n",
      "Solution found in 21 steps.\n",
      "Actions: ['right', 'right', 'up', 'left', 'down', 'right', 'down', 'left', 'left', 'up', 'up', 'right', 'down', 'down', 'right', 'up', 'left', 'left', 'down', 'right', 'right']\n"
     ]
    }
   ],
   "source": [
    "start = time.time()\n",
    "solution_path, total_cost, actions = solve_puzzle(current_puzzle)\n",
    "end = time.time()\n",
    "\n",
    "\n",
    "execution_time = end - start\n",
    "print(\"Initial state:\")\n",
    "print(current_puzzle)\n",
    "print(\"\\nGoal state:\")\n",
    "print(goal)\n",
    "print(f\"\\n{total_cost} actions evaluated\")\n",
    "if solution_path:\n",
    "    print(f\"Solution found in {len(actions)} steps.\")\n",
    "    print(f\"Actions: {actions}\")\n",
    "else:\n",
    "    print(\"No solution found.\")\n"
   ]
  }
 ],
 "metadata": {
  "kernelspec": {
   "display_name": "Python 3 (ipykernel)",
   "language": "python",
   "name": "python3"
  },
  "language_info": {
   "codemirror_mode": {
    "name": "ipython",
    "version": 3
   },
   "file_extension": ".py",
   "mimetype": "text/x-python",
   "name": "python",
   "nbconvert_exporter": "python",
   "pygments_lexer": "ipython3",
   "version": "3.11.5"
  }
 },
 "nbformat": 4,
 "nbformat_minor": 5
}
